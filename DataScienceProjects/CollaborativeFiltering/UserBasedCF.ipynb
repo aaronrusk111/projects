{
  "cells": [
    {
      "cell_type": "code",
      "execution_count": 1,
      "metadata": {
        "colab": {
          "base_uri": "https://localhost:8080/"
        },
        "id": "ASkm-kcKys3n",
        "outputId": "16a61b18-219f-47b0-e764-49a94ec71b30"
      },
      "outputs": [
        {
          "name": "stdout",
          "output_type": "stream",
          "text": [
            "   user_id  item_id  rating\n",
            "0      196      242       3\n",
            "1      186      302       3\n",
            "2       22      377       1\n",
            "3      244       51       2\n",
            "4      166      346       1\n",
            "<class 'pandas.core.frame.DataFrame'>\n",
            "RangeIndex: 100000 entries, 0 to 99999\n",
            "Data columns (total 3 columns):\n",
            " #   Column   Non-Null Count   Dtype\n",
            "---  ------   --------------   -----\n",
            " 0   user_id  100000 non-null  int64\n",
            " 1   item_id  100000 non-null  int64\n",
            " 2   rating   100000 non-null  int64\n",
            "dtypes: int64(3)\n",
            "memory usage: 2.3 MB\n",
            "None\n",
            "Number of unique users: 943\n",
            "Number of unique items: 1682\n"
          ]
        }
      ],
      "source": [
        "import pandas as pd\n",
        "import numpy as np\n",
        "from math import sqrt\n",
        "\n",
        "dataPath = \"https://files.grouplens.org/datasets/movielens/ml-100k/u.data\"\n",
        "columnNames = [\"user_id\", \"item_id\", \"rating\", \"timestamp\"]\n",
        "data = pd.read_csv(dataPath, sep=\"\\t\", names=columnNames)\n",
        "\n",
        "# Remove timestamp column\n",
        "data.drop(columns=[\"timestamp\"], inplace=True)\n",
        "\n",
        "print(data.head())\n",
        "print(data.info())\n",
        "print(f\"Number of unique users: {data['user_id'].nunique()}\")\n",
        "print(f\"Number of unique items: {data['item_id'].nunique()}\")\n"
      ]
    },
    {
      "cell_type": "code",
      "execution_count": 2,
      "metadata": {
        "colab": {
          "base_uri": "https://localhost:8080/"
        },
        "id": "JTshdx4NSc8X",
        "outputId": "127eac63-476e-4a5b-9e5f-e8ffceffc492"
      },
      "outputs": [
        {
          "name": "stdout",
          "output_type": "stream",
          "text": [
            "item_id  1     2     3     4     5     6     7     8     9     10    ...  \\\n",
            "user_id                                                              ...   \n",
            "1         5.0   3.0   4.0   3.0   3.0   5.0   4.0   1.0   5.0   3.0  ...   \n",
            "2         4.0   NaN   NaN   NaN   NaN   NaN   NaN   NaN   NaN   2.0  ...   \n",
            "3         NaN   NaN   NaN   NaN   NaN   NaN   NaN   NaN   NaN   NaN  ...   \n",
            "4         NaN   NaN   NaN   NaN   NaN   NaN   NaN   NaN   NaN   NaN  ...   \n",
            "5         4.0   3.0   NaN   NaN   NaN   NaN   NaN   NaN   NaN   NaN  ...   \n",
            "\n",
            "item_id  1673  1674  1675  1676  1677  1678  1679  1680  1681  1682  \n",
            "user_id                                                              \n",
            "1         NaN   NaN   NaN   NaN   NaN   NaN   NaN   NaN   NaN   NaN  \n",
            "2         NaN   NaN   NaN   NaN   NaN   NaN   NaN   NaN   NaN   NaN  \n",
            "3         NaN   NaN   NaN   NaN   NaN   NaN   NaN   NaN   NaN   NaN  \n",
            "4         NaN   NaN   NaN   NaN   NaN   NaN   NaN   NaN   NaN   NaN  \n",
            "5         NaN   NaN   NaN   NaN   NaN   NaN   NaN   NaN   NaN   NaN  \n",
            "\n",
            "[5 rows x 1682 columns]\n"
          ]
        }
      ],
      "source": [
        "# Create a user-item matrix\n",
        "userItemMatrix = data.pivot(index='user_id', columns='item_id', values='rating')\n",
        "\n",
        "print(userItemMatrix.head())"
      ]
    },
    {
      "cell_type": "code",
      "execution_count": 3,
      "metadata": {
        "colab": {
          "base_uri": "https://localhost:8080/"
        },
        "id": "lrSOFk6SSfUO",
        "outputId": "d817c598-6ff4-4380-88b2-f7762bd64b03"
      },
      "outputs": [
        {
          "name": "stdout",
          "output_type": "stream",
          "text": [
            "   user_id  item_id  rating\n",
            "0      304      294     4.0\n",
            "1      304      300     5.0\n",
            "2      304      323     3.0\n",
            "3      304      259     1.0\n",
            "4      304      274     4.0\n"
          ]
        }
      ],
      "source": [
        "testSize = 0.2\n",
        "trainMatrix = userItemMatrix.copy()\n",
        "\n",
        "# Select 20% of users and mask 20% of their ratings\n",
        "testUsers = np.random.choice(userItemMatrix.index, size=int(testSize * userItemMatrix.shape[0]), replace=False)\n",
        "\n",
        "testData = []\n",
        "for user in testUsers:\n",
        "    userRatings = trainMatrix.loc[user]\n",
        "    ratedItems = userRatings[userRatings.notna()].index\n",
        "    testItems = np.random.choice(ratedItems, size=int(testSize * len(ratedItems)), replace=False)\n",
        "    for item in testItems:\n",
        "        testData.append((user, item, userItemMatrix.loc[user, item]))\n",
        "        # Mask the rating\n",
        "        trainMatrix.loc[user, item] = np.nan\n",
        "\n",
        "testData = pd.DataFrame(testData, columns=[\"user_id\", \"item_id\", \"rating\"])\n",
        "print(testData.head())\n"
      ]
    },
    {
      "cell_type": "code",
      "execution_count": 4,
      "metadata": {
        "colab": {
          "base_uri": "https://localhost:8080/"
        },
        "id": "T26ybI_ISj8V",
        "outputId": "543565e7-903a-469d-89e6-be628bc6b400"
      },
      "outputs": [
        {
          "name": "stdout",
          "output_type": "stream",
          "text": [
            "user_id       1         2         3         4         5         6         7    \\\n",
            "user_id                                                                         \n",
            "1        0.000000  0.960582  0.857075  0.919264  0.932614  0.953845  0.949546   \n",
            "2        0.960582  0.000000  0.935601  0.946756  0.984803  0.955547  0.980502   \n",
            "3        0.857075  0.935601  0.000000  0.919528  1.000000  0.890713  0.966636   \n",
            "4        0.919264  0.946756  0.919528  0.000000  0.994692  0.936996  0.932050   \n",
            "5        0.932614  0.984803  1.000000  0.994692  0.000000  0.933627  0.918380   \n",
            "\n",
            "user_id       8         9         10   ...       934       935       936  \\\n",
            "user_id                                ...                                 \n",
            "1        0.979932  0.976404  0.968304  ...  0.942682  0.875338  0.965889   \n",
            "2        0.946414  0.940056  0.982614  ...  0.950765  0.957073  0.967400   \n",
            "3        0.914207  0.919145  0.902444  ...  0.964901  0.948683  0.896328   \n",
            "4        0.966988  0.993884  0.969117  ...  0.982905  1.000000  0.952164   \n",
            "5        0.933170  0.880919  0.940114  ...  0.920066  0.943281  0.941549   \n",
            "\n",
            "user_id       937       938       939       940       941       942       943  \n",
            "user_id                                                                        \n",
            "1        0.923676  0.910709  0.944993  0.947752  0.981868  0.923505  0.929744  \n",
            "2        0.963211  0.946455  0.974901  0.936110  0.949704  0.948493  0.977474  \n",
            "3        0.905097  0.872572  0.993884  0.852826  0.973223  0.912009  0.989949  \n",
            "4        0.895669  0.958333  1.000000  0.969260  0.998538  0.980173  0.976417  \n",
            "5        0.965824  0.903752  0.943701  0.918769  0.989011  0.946235  0.909228  \n",
            "\n",
            "[5 rows x 943 columns]\n"
          ]
        }
      ],
      "source": [
        "def calculateSimilarityMatrix(matrix):\n",
        "    users = matrix.index\n",
        "    userData = matrix.to_numpy()\n",
        "    #Initialize the similarity matrix\n",
        "    similarityMatrix = np.zeros((len(users), len(users)))\n",
        "\n",
        "    for i in range(len(users)):\n",
        "        for j in range(i + 1, len(users)):\n",
        "            user1 = userData[i]\n",
        "            user2 = userData[j]\n",
        "\n",
        "            # Fetch items rated by both users\n",
        "            commonItems = (~np.isnan(user1) & ~np.isnan(user2))\n",
        "            # Continue if users have no common ratings\n",
        "            if np.sum(commonItems) == 0:\n",
        "                continue\n",
        "\n",
        "            # Cosine similarity\n",
        "            vec1 = user1[commonItems]\n",
        "            vec2 = user2[commonItems]\n",
        "            norm1 = np.sqrt(np.sum(vec1**2))\n",
        "            norm2 = np.sqrt(np.sum(vec2**2))\n",
        "\n",
        "\n",
        "            if norm1 != 0 and norm2 != 0:\n",
        "                similarity = np.dot(vec1, vec2)/(norm1*norm2)\n",
        "                similarityMatrix[i,j] = similarity\n",
        "                similarityMatrix[j,i] = similarity\n",
        "\n",
        "    return pd.DataFrame(similarityMatrix, index=users, columns=users)\n",
        "\n",
        "userSimilarity = pd.DataFrame(calculateSimilarityMatrix(trainMatrix), index=trainMatrix.index, columns=trainMatrix.index)\n",
        "\n",
        "print(userSimilarity.head())\n"
      ]
    },
    {
      "cell_type": "code",
      "execution_count": 50,
      "metadata": {
        "id": "hp32SuTxSl0F"
      },
      "outputs": [],
      "source": [
        "def predictRating(user, item, k):\n",
        "    # Sort similar users\n",
        "    similarUsers = userSimilarity[user].sort_values(ascending=False)\n",
        "\n",
        "    # Filter only users who have rated the target item\n",
        "    similarUsers = similarUsers[~userItemMatrix.loc[similarUsers.index, item].isna()]\n",
        "    # Filter top k most similar users\n",
        "    similarUsers = similarUsers[:k]\n",
        "\n",
        "    # Compute weighted average of ratings\n",
        "    rating = userItemMatrix.loc[similarUsers.index, item]\n",
        "    weight = similarUsers.values\n",
        "\n",
        "    numerator = np.dot(rating, weight)\n",
        "    denominator = np.sum(np.abs(weight))\n",
        "    if denominator != 0:\n",
        "      return numerator / denominator\n",
        "    return np.nan\n",
        "\n",
        "testData[\"predicted_rating\"] = testData.apply(lambda row: predictRating(row[\"user_id\"], row[\"item_id\"], 5), axis=1)\n"
      ]
    },
    {
      "cell_type": "code",
      "execution_count": 51,
      "metadata": {
        "colab": {
          "base_uri": "https://localhost:8080/"
        },
        "id": "yJU1zNyMSngi",
        "outputId": "561835d7-3177-4698-fe98-06b5f4ec2088"
      },
      "outputs": [
        {
          "name": "stdout",
          "output_type": "stream",
          "text": [
            "RMSE:1.0670423125067228\n"
          ]
        }
      ],
      "source": [
        "def calculateRMSE(actualRatings, predictedRatings):\n",
        "    mask = ~np.isnan(predictedRatings)\n",
        "    return sqrt((np.mean((actualRatings[mask] - predictedRatings[mask])** 2)))\n",
        "\n",
        "rmse = calculateRMSE(testData[\"rating\"], testData[\"predicted_rating\"])\n",
        "print(\"RMSE:\" + str(rmse))"
      ]
    },
    {
      "cell_type": "markdown",
      "metadata": {
        "id": "oxufwvgAGhTQ"
      },
      "source": [
        "Analysis:\n",
        "My model achieved a RMSE value of between 1.05 - 1.1\n",
        "This means that the actual ratings deviate from the predicted ratings by around 1.05 to 1.1 points. For example if the actual rating of a movie is 4.0 then the predicted rating could be in the range 2.95 to 5.0. Obviously a lower RMSE value is better, guaranteeing a closer/better prediction. This RMSE value is decent, but could be further optimized by tuning the k value or other parameters.\n",
        "\n",
        "Strengths:\n",
        "It effectively recommends items to users that they might not have discovered on their own. It doesn't require specific information/data about the items themselves like item-based collaborative filtering does, meaning it can be applicable to variety of different areas.\n",
        "\n",
        "Weaknesses:\n",
        "Not good at recommending items to new users that don't have much data to indicate their preferences. Not good if the data is too sparse, because there will not be many similar users to generate recommendations. The scalability can be an issue when the number of users grows, since you need to calculate similarity between every user."
      ]
    }
  ],
  "metadata": {
    "colab": {
      "provenance": []
    },
    "kernelspec": {
      "display_name": "base",
      "language": "python",
      "name": "python3"
    },
    "language_info": {
      "codemirror_mode": {
        "name": "ipython",
        "version": 3
      },
      "file_extension": ".py",
      "mimetype": "text/x-python",
      "name": "python",
      "nbconvert_exporter": "python",
      "pygments_lexer": "ipython3",
      "version": "3.12.4"
    }
  },
  "nbformat": 4,
  "nbformat_minor": 0
}
